{
 "cells": [
  {
   "cell_type": "markdown",
   "id": "cf75b763-417f-48d3-80b9-82697437901c",
   "metadata": {},
   "source": [
    "## Granger Causality Test"
   ]
  },
  {
   "cell_type": "markdown",
   "id": "0692e5d9-4213-4fa1-8aaa-8d17f991fdf3",
   "metadata": {},
   "source": [
    "Companies that Granger Causes Apple’s close differencing will be implemented in VAR."
   ]
  },
  {
   "cell_type": "code",
   "execution_count": 1,
   "id": "6ce05c35-f3bf-420d-b642-9f0def9aca27",
   "metadata": {},
   "outputs": [],
   "source": [
    "import pandas as pd\n",
    "import numpy as np\n",
    "import yfinance as yf\n",
    "from statsmodels.tsa.stattools import grangercausalitytests"
   ]
  },
  {
   "cell_type": "code",
   "execution_count": 2,
   "id": "7bcf3429-541b-49db-b81e-1be17bcbc714",
   "metadata": {},
   "outputs": [],
   "source": [
    "import warnings\n",
    "warnings.simplefilter(action='ignore', category=FutureWarning)"
   ]
  },
  {
   "cell_type": "markdown",
   "id": "bbc544b3-b6f2-4c86-9f56-983c8446d2b7",
   "metadata": {},
   "source": [
    "## Function that export p-values for Granger Causality Test"
   ]
  },
  {
   "cell_type": "code",
   "execution_count": 3,
   "id": "17c94b05-80b2-4f5f-afa8-d77ed6a06c32",
   "metadata": {},
   "outputs": [],
   "source": [
    "## https://www.machinelearningplus.com/time-series/granger-causality-test-in-python/\n",
    "def grangers_causation_matrix(data, variables,test='ssr_chi2test', verbose=False):    \n",
    "    \"\"\"Check Granger Causality of all possible combinations of the Time series.\n",
    "    The rows are the response variable, columns are predictors. The values in the table \n",
    "    are the P-Values. P-Values lesser than the significance level (0.05), implies \n",
    "    the Null Hypothesis that the coefficients of the corresponding past values is \n",
    "    zero, that is, the X does not cause Y can be rejected.\n",
    "\n",
    "    data      : pandas dataframe containing the time series variables\n",
    "    variables : list containing names of the time series variables.\n",
    "    \"\"\"\n",
    "    df = pd.DataFrame(np.zeros((len(variables), len(variables))), columns=variables, index=variables)\n",
    "    for c in df.columns:\n",
    "        for r in df.index:\n",
    "            test_result = grangercausalitytests(data[[r, c]], maxlag=10, verbose=False)\n",
    "            p_values = [round(test_result[i+1][0][test][1],4) for i in range(10)]\n",
    "            if verbose: print(f'Y = {r}, X = {c}, P Values = {p_values}')\n",
    "            min_p_value = np.min(p_values)\n",
    "            #opt_lag = 1 + np.argmin(p_values)\n",
    "            df.loc[r, c] = min_p_value\n",
    "    df.columns = [var + '_x' for var in variables]\n",
    "    df.index = [var + '_y' for var in variables]\n",
    "    return df"
   ]
  },
  {
   "cell_type": "markdown",
   "id": "37070982-c29c-4e35-98c3-b80a44a7c890",
   "metadata": {},
   "source": [
    "## Import stock data from Yahoo Finance"
   ]
  },
  {
   "cell_type": "code",
   "execution_count": 4,
   "id": "708155c3-faed-4762-a6ad-ea1310528fb9",
   "metadata": {},
   "outputs": [],
   "source": [
    "google = yf.Ticker(\"GOOG\")\n",
    "apple = yf.Ticker(\"AAPL\")\n",
    "microsoft = yf.Ticker(\"MSFT\")\n",
    "nvidia = yf.Ticker(\"NVDA\")\n",
    "amazon = yf.Ticker(\"AMZN\")\n",
    "meta = yf.Ticker(\"META\")\n",
    "tsmc = yf.Ticker(\"TSM\")\n",
    "\n",
    "google_data = google.history(start='2023-01-01', end='2024-01-01')\n",
    "apple_data = apple.history(start='2023-01-01', end='2024-01-01')\n",
    "microsoft_data = microsoft.history(start='2023-01-01', end='2024-01-01')\n",
    "nvidia_data = nvidia.history(start='2023-01-01', end='2024-01-01')\n",
    "amazon_data = amazon.history(start='2023-01-01', end='2024-01-01')\n",
    "meta_data = meta.history(start='2023-01-01', end='2024-01-01')\n",
    "tsm_data = tsmc.history(start='2023-01-01', end='2024-01-01')"
   ]
  },
  {
   "cell_type": "markdown",
   "id": "39a716ea-a3ae-4cf5-ba0c-fdfbc1f8bbc7",
   "metadata": {},
   "source": [
    "## Create Dataframe for Granger Causality test"
   ]
  },
  {
   "cell_type": "code",
   "execution_count": 5,
   "id": "880ef249-3d1d-44b7-980d-34db7e800a15",
   "metadata": {},
   "outputs": [],
   "source": [
    "stationary_df = pd.DataFrame()\n",
    "stationary_df[\"Apple Close Diff\"] = apple_data.Close.diff()\n",
    "stationary_df[\"Google Close Diff\"] = google_data.Close.diff()\n",
    "stationary_df[\"Microsoft Close Diff\"] = microsoft_data.Close.diff()\n",
    "stationary_df[\"Nvidia Close Diff\"] = nvidia_data.Close.diff()\n",
    "stationary_df[\"Amazon Close Diff\"] = amazon_data.Close.diff()\n",
    "stationary_df[\"Meta Close Diff\"] = meta_data.Close.diff()\n",
    "stationary_df[\"TSMC Close Diff\"] = meta_data.Close.diff()\n",
    "\n",
    "## Drop the first NA row\n",
    "stationary_df = stationary_df.dropna()"
   ]
  },
  {
   "cell_type": "code",
   "execution_count": 6,
   "id": "bea1825f-e87b-4c52-b332-b0400db7a7fe",
   "metadata": {},
   "outputs": [
    {
     "data": {
      "text/html": [
       "<div>\n",
       "<style scoped>\n",
       "    .dataframe tbody tr th:only-of-type {\n",
       "        vertical-align: middle;\n",
       "    }\n",
       "\n",
       "    .dataframe tbody tr th {\n",
       "        vertical-align: top;\n",
       "    }\n",
       "\n",
       "    .dataframe thead th {\n",
       "        text-align: right;\n",
       "    }\n",
       "</style>\n",
       "<table border=\"1\" class=\"dataframe\">\n",
       "  <thead>\n",
       "    <tr style=\"text-align: right;\">\n",
       "      <th></th>\n",
       "      <th>Apple Close Diff_x</th>\n",
       "      <th>Google Close Diff_x</th>\n",
       "      <th>Microsoft Close Diff_x</th>\n",
       "      <th>Nvidia Close Diff_x</th>\n",
       "      <th>Amazon Close Diff_x</th>\n",
       "      <th>Meta Close Diff_x</th>\n",
       "      <th>TSMC Close Diff_x</th>\n",
       "    </tr>\n",
       "  </thead>\n",
       "  <tbody>\n",
       "    <tr>\n",
       "      <th>Apple Close Diff_y</th>\n",
       "      <td>1.0000</td>\n",
       "      <td>0.5876</td>\n",
       "      <td>0.4740</td>\n",
       "      <td>0.0158</td>\n",
       "      <td>0.4873</td>\n",
       "      <td>0.5645</td>\n",
       "      <td>0.5645</td>\n",
       "    </tr>\n",
       "    <tr>\n",
       "      <th>Google Close Diff_y</th>\n",
       "      <td>0.0713</td>\n",
       "      <td>1.0000</td>\n",
       "      <td>0.2047</td>\n",
       "      <td>0.2592</td>\n",
       "      <td>0.1273</td>\n",
       "      <td>0.0957</td>\n",
       "      <td>0.0957</td>\n",
       "    </tr>\n",
       "    <tr>\n",
       "      <th>Microsoft Close Diff_y</th>\n",
       "      <td>0.1333</td>\n",
       "      <td>0.3904</td>\n",
       "      <td>1.0000</td>\n",
       "      <td>0.2939</td>\n",
       "      <td>0.5907</td>\n",
       "      <td>0.5403</td>\n",
       "      <td>0.5403</td>\n",
       "    </tr>\n",
       "    <tr>\n",
       "      <th>Nvidia Close Diff_y</th>\n",
       "      <td>0.6800</td>\n",
       "      <td>0.8959</td>\n",
       "      <td>0.2444</td>\n",
       "      <td>1.0000</td>\n",
       "      <td>0.3770</td>\n",
       "      <td>0.4903</td>\n",
       "      <td>0.4903</td>\n",
       "    </tr>\n",
       "    <tr>\n",
       "      <th>Amazon Close Diff_y</th>\n",
       "      <td>0.0023</td>\n",
       "      <td>0.0064</td>\n",
       "      <td>0.1589</td>\n",
       "      <td>0.0837</td>\n",
       "      <td>1.0000</td>\n",
       "      <td>0.0059</td>\n",
       "      <td>0.0059</td>\n",
       "    </tr>\n",
       "    <tr>\n",
       "      <th>Meta Close Diff_y</th>\n",
       "      <td>0.0194</td>\n",
       "      <td>0.0369</td>\n",
       "      <td>0.3946</td>\n",
       "      <td>0.2334</td>\n",
       "      <td>0.3620</td>\n",
       "      <td>1.0000</td>\n",
       "      <td>1.0000</td>\n",
       "    </tr>\n",
       "    <tr>\n",
       "      <th>TSMC Close Diff_y</th>\n",
       "      <td>0.0194</td>\n",
       "      <td>0.0369</td>\n",
       "      <td>0.3946</td>\n",
       "      <td>0.2334</td>\n",
       "      <td>0.3620</td>\n",
       "      <td>1.0000</td>\n",
       "      <td>1.0000</td>\n",
       "    </tr>\n",
       "  </tbody>\n",
       "</table>\n",
       "</div>"
      ],
      "text/plain": [
       "                        Apple Close Diff_x  Google Close Diff_x  \\\n",
       "Apple Close Diff_y                  1.0000               0.5876   \n",
       "Google Close Diff_y                 0.0713               1.0000   \n",
       "Microsoft Close Diff_y              0.1333               0.3904   \n",
       "Nvidia Close Diff_y                 0.6800               0.8959   \n",
       "Amazon Close Diff_y                 0.0023               0.0064   \n",
       "Meta Close Diff_y                   0.0194               0.0369   \n",
       "TSMC Close Diff_y                   0.0194               0.0369   \n",
       "\n",
       "                        Microsoft Close Diff_x  Nvidia Close Diff_x  \\\n",
       "Apple Close Diff_y                      0.4740               0.0158   \n",
       "Google Close Diff_y                     0.2047               0.2592   \n",
       "Microsoft Close Diff_y                  1.0000               0.2939   \n",
       "Nvidia Close Diff_y                     0.2444               1.0000   \n",
       "Amazon Close Diff_y                     0.1589               0.0837   \n",
       "Meta Close Diff_y                       0.3946               0.2334   \n",
       "TSMC Close Diff_y                       0.3946               0.2334   \n",
       "\n",
       "                        Amazon Close Diff_x  Meta Close Diff_x  \\\n",
       "Apple Close Diff_y                   0.4873             0.5645   \n",
       "Google Close Diff_y                  0.1273             0.0957   \n",
       "Microsoft Close Diff_y               0.5907             0.5403   \n",
       "Nvidia Close Diff_y                  0.3770             0.4903   \n",
       "Amazon Close Diff_y                  1.0000             0.0059   \n",
       "Meta Close Diff_y                    0.3620             1.0000   \n",
       "TSMC Close Diff_y                    0.3620             1.0000   \n",
       "\n",
       "                        TSMC Close Diff_x  \n",
       "Apple Close Diff_y                 0.5645  \n",
       "Google Close Diff_y                0.0957  \n",
       "Microsoft Close Diff_y             0.5403  \n",
       "Nvidia Close Diff_y                0.4903  \n",
       "Amazon Close Diff_y                0.0059  \n",
       "Meta Close Diff_y                  1.0000  \n",
       "TSMC Close Diff_y                  1.0000  "
      ]
     },
     "execution_count": 6,
     "metadata": {},
     "output_type": "execute_result"
    }
   ],
   "source": [
    "grangers_causation_matrix(stationary_df, variables=stationary_df.columns)"
   ]
  },
  {
   "cell_type": "markdown",
   "id": "ccdd0381-dab3-47ab-82ee-fb3ef53ecd6b",
   "metadata": {},
   "source": [
    "From this table, we found that the NVIDIA's close difference Granger Causes Apple's Close Difference NVIDIA's close difference (p = 0.0158)."
   ]
  }
 ],
 "metadata": {
  "kernelspec": {
   "display_name": "data_imputation",
   "language": "python",
   "name": "data_imputation"
  },
  "language_info": {
   "codemirror_mode": {
    "name": "ipython",
    "version": 3
   },
   "file_extension": ".py",
   "mimetype": "text/x-python",
   "name": "python",
   "nbconvert_exporter": "python",
   "pygments_lexer": "ipython3",
   "version": "3.12.3"
  }
 },
 "nbformat": 4,
 "nbformat_minor": 5
}
