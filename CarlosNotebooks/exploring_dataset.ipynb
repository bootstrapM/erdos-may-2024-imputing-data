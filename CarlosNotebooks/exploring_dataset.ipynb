{
 "cells": [
  {
   "cell_type": "code",
   "execution_count": 2,
   "metadata": {},
   "outputs": [],
   "source": [
    "import yfinance as yf"
   ]
  },
  {
   "cell_type": "code",
   "execution_count": 3,
   "metadata": {},
   "outputs": [],
   "source": [
    "msft = yf.Ticker(\"MSFT\")"
   ]
  },
  {
   "cell_type": "code",
   "execution_count": 6,
   "metadata": {},
   "outputs": [
    {
     "data": {
      "text/plain": [
       "{'currency': 'USD',\n",
       " 'symbol': 'MSFT',\n",
       " 'exchangeName': 'NMS',\n",
       " 'fullExchangeName': 'NasdaqGS',\n",
       " 'instrumentType': 'EQUITY',\n",
       " 'firstTradeDate': 511108200,\n",
       " 'regularMarketTime': 1715889605,\n",
       " 'hasPrePostMarketData': True,\n",
       " 'gmtoffset': -14400,\n",
       " 'timezone': 'EDT',\n",
       " 'exchangeTimezoneName': 'America/New_York',\n",
       " 'regularMarketPrice': 420.99,\n",
       " 'fiftyTwoWeekHigh': 425.42,\n",
       " 'fiftyTwoWeekLow': 420.35,\n",
       " 'regularMarketDayHigh': 425.42,\n",
       " 'regularMarketDayLow': 420.35,\n",
       " 'regularMarketVolume': 17067015,\n",
       " 'chartPreviousClose': 414.58,\n",
       " 'priceHint': 2,\n",
       " 'currentTradingPeriod': {'pre': {'timezone': 'EDT',\n",
       "   'start': 1715846400,\n",
       "   'end': 1715866200,\n",
       "   'gmtoffset': -14400},\n",
       "  'regular': {'timezone': 'EDT',\n",
       "   'start': 1715866200,\n",
       "   'end': 1715889600,\n",
       "   'gmtoffset': -14400},\n",
       "  'post': {'timezone': 'EDT',\n",
       "   'start': 1715889600,\n",
       "   'end': 1715904000,\n",
       "   'gmtoffset': -14400}},\n",
       " 'dataGranularity': '1d',\n",
       " 'range': '1mo',\n",
       " 'validRanges': ['1d',\n",
       "  '5d',\n",
       "  '1mo',\n",
       "  '3mo',\n",
       "  '6mo',\n",
       "  '1y',\n",
       "  '2y',\n",
       "  '5y',\n",
       "  '10y',\n",
       "  'ytd',\n",
       "  'max']}"
      ]
     },
     "execution_count": 6,
     "metadata": {},
     "output_type": "execute_result"
    }
   ],
   "source": [
    "msft.history_metadata"
   ]
  },
  {
   "cell_type": "code",
   "execution_count": 12,
   "metadata": {},
   "outputs": [
    {
     "data": {
      "text/plain": [
       "Series([], dtype: object)"
      ]
     },
     "execution_count": 12,
     "metadata": {},
     "output_type": "execute_result"
    }
   ],
   "source": [
    "msft.capital_gains"
   ]
  },
  {
   "cell_type": "code",
   "execution_count": 14,
   "metadata": {},
   "outputs": [
    {
     "data": {
      "text/plain": [
       "2015-10-23 00:00:00-04:00    7987910000\n",
       "2016-01-28 00:00:00-05:00    7909300000\n",
       "2016-04-21 00:00:00-04:00    7860470000\n",
       "2016-07-20 00:00:00-04:00    7808000000\n",
       "2016-07-28 00:00:00-04:00    7792520000\n",
       "                                ...    \n",
       "2024-05-07 00:00:00-04:00    7432309760\n",
       "2024-05-10 00:00:00-04:00    7432309760\n",
       "2024-05-11 00:00:00-04:00    7432309760\n",
       "2024-05-15 00:00:00-04:00    7432309760\n",
       "2024-05-16 00:00:00-04:00    7432309760\n",
       "Length: 431, dtype: int64"
      ]
     },
     "execution_count": 14,
     "metadata": {},
     "output_type": "execute_result"
    }
   ],
   "source": [
    "msft.get_shares_full(start=\"2001-01-01\", end=None)"
   ]
  },
  {
   "cell_type": "code",
   "execution_count": null,
   "metadata": {},
   "outputs": [],
   "source": []
  }
 ],
 "metadata": {
  "kernelspec": {
   "display_name": "erdos_imputing_data",
   "language": "python",
   "name": "python3"
  },
  "language_info": {
   "codemirror_mode": {
    "name": "ipython",
    "version": 3
   },
   "file_extension": ".py",
   "mimetype": "text/x-python",
   "name": "python",
   "nbconvert_exporter": "python",
   "pygments_lexer": "ipython3",
   "version": "3.12.3"
  }
 },
 "nbformat": 4,
 "nbformat_minor": 2
}
