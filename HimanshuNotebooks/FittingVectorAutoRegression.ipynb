{
 "cells": [
  {
   "cell_type": "code",
   "execution_count": 1,
   "id": "ac8dcfa3-e6e3-4e74-b0fa-1502a59c4d31",
   "metadata": {},
   "outputs": [
    {
     "name": "stdout",
     "output_type": "stream",
     "text": [
      "Apple     6\n",
      "Google    0\n",
      "Nvidia    0\n",
      "dtype: int64\n",
      "                 Apple      Google      Nvidia\n",
      "2020-01-01  101.764052  151.883151  199.630818\n",
      "2020-01-02  102.164210  150.535392  199.391439\n",
      "2020-01-03  103.142948  149.264907  200.491099\n",
      "2020-01-06  105.383841  150.234303  201.146362\n",
      "2020-01-07  107.251399  149.061180  201.786494\n",
      "...                ...         ...         ...\n",
      "2020-05-13  103.655530  153.106238  193.425488\n",
      "2020-05-14  103.666030  153.878029  193.523213\n",
      "2020-05-15  105.451900  154.701533  194.106167\n",
      "2020-05-18  105.578812  156.864769  193.706718\n",
      "2020-05-19  105.980802  158.201297  194.076774\n",
      "\n",
      "[100 rows x 3 columns]\n",
      "Apple     0\n",
      "Google    0\n",
      "Nvidia    0\n",
      "dtype: int64\n"
     ]
    }
   ],
   "source": [
    "import pandas as pd\n",
    "import numpy as np\n",
    "from statsmodels.tsa.api import VAR\n",
    "\n",
    "# Example data creation (in practice, you would load this from your dataset)\n",
    "dates = pd.date_range(start='2020-01-01', periods=100, freq='B')\n",
    "np.random.seed(0)\n",
    "\n",
    "# Simulate stock price data\n",
    "data = pd.DataFrame({\n",
    "    'Apple': np.random.randn(100).cumsum() + 100,\n",
    "    'Google': np.random.randn(100).cumsum() + 150,\n",
    "    'Nvidia': np.random.randn(100).cumsum() + 200,\n",
    "}, index=dates)\n",
    "\n",
    "data_orig = data.copy()\n",
    "\n",
    "# Introduce missing values in Apple stock price data\n",
    "data.loc['2020-02-01':'2020-02-10', 'Apple'] = np.nan\n",
    "\n",
    "# Check for missing values\n",
    "print(data.isna().sum())\n",
    "\n",
    "# Prepare the data for VAR model (forward fill to handle initial NaNs if necessary)\n",
    "data_filled = data.ffill().bfill()\n",
    "\n",
    "# Fit the VAR model\n",
    "model = VAR(data_filled)\n",
    "results = model.fit(maxlags=15, ic='aic')\n",
    "\n",
    "# Forecast missing values\n",
    "def impute_missing_values(data, results):\n",
    "    for i in range(len(data)):\n",
    "        if np.isnan(data.iloc[i, 0]):  # Check if Apple stock price is NaN\n",
    "            # Get the previous available data points up to the maxlags\n",
    "            data_slice = data.iloc[i - results.k_ar:i].values\n",
    "            if len(data_slice) == results.k_ar:\n",
    "                forecast = results.forecast(data_slice, steps=1)\n",
    "                data.iloc[i, 0] = forecast[0, 0]  # Impute the missing value for Apple\n",
    "    return data\n",
    "\n",
    "# Impute the missing values\n",
    "imputed_data = impute_missing_values(data.copy(), results)\n",
    "\n",
    "# Display the imputed data\n",
    "print(imputed_data)\n",
    "\n",
    "# Check if there are any NaNs left\n",
    "print(imputed_data.isna().sum())\n"
   ]
  },
  {
   "cell_type": "code",
   "execution_count": null,
   "id": "16a3ebf9-9ba0-4374-acc7-c0286d0773cb",
   "metadata": {},
   "outputs": [],
   "source": []
  },
  {
   "cell_type": "code",
   "execution_count": 5,
   "id": "778d9689-9620-4362-9d44-79d0963a51bd",
   "metadata": {},
   "outputs": [
    {
     "data": {
      "text/html": [
       "<div>\n",
       "<style scoped>\n",
       "    .dataframe tbody tr th:only-of-type {\n",
       "        vertical-align: middle;\n",
       "    }\n",
       "\n",
       "    .dataframe tbody tr th {\n",
       "        vertical-align: top;\n",
       "    }\n",
       "\n",
       "    .dataframe thead th {\n",
       "        text-align: right;\n",
       "    }\n",
       "</style>\n",
       "<table border=\"1\" class=\"dataframe\">\n",
       "  <thead>\n",
       "    <tr style=\"text-align: right;\">\n",
       "      <th></th>\n",
       "      <th>Apple</th>\n",
       "      <th>Google</th>\n",
       "      <th>Nvidia</th>\n",
       "    </tr>\n",
       "  </thead>\n",
       "  <tbody>\n",
       "    <tr>\n",
       "      <th>2020-01-01</th>\n",
       "      <td>101.764052</td>\n",
       "      <td>151.883151</td>\n",
       "      <td>199.630818</td>\n",
       "    </tr>\n",
       "    <tr>\n",
       "      <th>2020-01-02</th>\n",
       "      <td>102.164210</td>\n",
       "      <td>150.535392</td>\n",
       "      <td>199.391439</td>\n",
       "    </tr>\n",
       "    <tr>\n",
       "      <th>2020-01-03</th>\n",
       "      <td>103.142948</td>\n",
       "      <td>149.264907</td>\n",
       "      <td>200.491099</td>\n",
       "    </tr>\n",
       "    <tr>\n",
       "      <th>2020-01-06</th>\n",
       "      <td>105.383841</td>\n",
       "      <td>150.234303</td>\n",
       "      <td>201.146362</td>\n",
       "    </tr>\n",
       "    <tr>\n",
       "      <th>2020-01-07</th>\n",
       "      <td>107.251399</td>\n",
       "      <td>149.061180</td>\n",
       "      <td>201.786494</td>\n",
       "    </tr>\n",
       "    <tr>\n",
       "      <th>...</th>\n",
       "      <td>...</td>\n",
       "      <td>...</td>\n",
       "      <td>...</td>\n",
       "    </tr>\n",
       "    <tr>\n",
       "      <th>2020-05-13</th>\n",
       "      <td>103.655530</td>\n",
       "      <td>153.106238</td>\n",
       "      <td>193.425488</td>\n",
       "    </tr>\n",
       "    <tr>\n",
       "      <th>2020-05-14</th>\n",
       "      <td>103.666030</td>\n",
       "      <td>153.878029</td>\n",
       "      <td>193.523213</td>\n",
       "    </tr>\n",
       "    <tr>\n",
       "      <th>2020-05-15</th>\n",
       "      <td>105.451900</td>\n",
       "      <td>154.701533</td>\n",
       "      <td>194.106167</td>\n",
       "    </tr>\n",
       "    <tr>\n",
       "      <th>2020-05-18</th>\n",
       "      <td>105.578812</td>\n",
       "      <td>156.864769</td>\n",
       "      <td>193.706718</td>\n",
       "    </tr>\n",
       "    <tr>\n",
       "      <th>2020-05-19</th>\n",
       "      <td>105.980802</td>\n",
       "      <td>158.201297</td>\n",
       "      <td>194.076774</td>\n",
       "    </tr>\n",
       "  </tbody>\n",
       "</table>\n",
       "<p>100 rows × 3 columns</p>\n",
       "</div>"
      ],
      "text/plain": [
       "                 Apple      Google      Nvidia\n",
       "2020-01-01  101.764052  151.883151  199.630818\n",
       "2020-01-02  102.164210  150.535392  199.391439\n",
       "2020-01-03  103.142948  149.264907  200.491099\n",
       "2020-01-06  105.383841  150.234303  201.146362\n",
       "2020-01-07  107.251399  149.061180  201.786494\n",
       "...                ...         ...         ...\n",
       "2020-05-13  103.655530  153.106238  193.425488\n",
       "2020-05-14  103.666030  153.878029  193.523213\n",
       "2020-05-15  105.451900  154.701533  194.106167\n",
       "2020-05-18  105.578812  156.864769  193.706718\n",
       "2020-05-19  105.980802  158.201297  194.076774\n",
       "\n",
       "[100 rows x 3 columns]"
      ]
     },
     "execution_count": 5,
     "metadata": {},
     "output_type": "execute_result"
    }
   ],
   "source": [
    "data"
   ]
  },
  {
   "cell_type": "code",
   "execution_count": 3,
   "id": "16d33db1-853a-403d-bb4d-293dbb6e9c99",
   "metadata": {},
   "outputs": [
    {
     "data": {
      "text/plain": [
       "<Axes: >"
      ]
     },
     "execution_count": 3,
     "metadata": {},
     "output_type": "execute_result"
    },
    {
     "data": {
      "image/png": "[encoded data removed]",
      "text/plain": [
       "<Figure size 640x480 with 1 Axes>"
      ]
     },
     "metadata": {},
     "output_type": "display_data"
    }
   ],
   "source": [
    "data_orig.plot()"
   ]
  },
  {
   "cell_type": "code",
   "execution_count": 2,
   "id": "76d2bff4-8a01-4395-b584-e373c232a85f",
   "metadata": {},
   "outputs": [
    {
     "data": {
      "text/plain": [
       "<Axes: >"
      ]
     },
     "execution_count": 2,
     "metadata": {},
     "output_type": "execute_result"
    },
    {
     "data": {
      "image/png": "[encoded data removed]",
      "text/plain": [
       "<Figure size 640x480 with 1 Axes>"
      ]
     },
     "metadata": {},
     "output_type": "display_data"
    }
   ],
   "source": [
    "data.plot()"
   ]
  },
  {
   "cell_type": "code",
   "execution_count": 8,
   "id": "ba231f0e-5ddb-4686-b8d0-ddadcc9168e7",
   "metadata": {},
   "outputs": [
    {
     "data": {
      "text/plain": [
       "0.2928793220263515"
      ]
     },
     "execution_count": 8,
     "metadata": {},
     "output_type": "execute_result"
    }
   ],
   "source": [
    "sum(imputed_data.Apple - data_orig.Apple)"
   ]
  },
  {
   "cell_type": "code",
   "execution_count": 13,
   "id": "f97e3070-a157-45eb-9c0d-d9b4fb473ce7",
   "metadata": {},
   "outputs": [
    {
     "data": {
      "text/html": [
       "<div>\n",
       "<style scoped>\n",
       "    .dataframe tbody tr th:only-of-type {\n",
       "        vertical-align: middle;\n",
       "    }\n",
       "\n",
       "    .dataframe tbody tr th {\n",
       "        vertical-align: top;\n",
       "    }\n",
       "\n",
       "    .dataframe thead th {\n",
       "        text-align: right;\n",
       "    }\n",
       "</style>\n",
       "<table border=\"1\" class=\"dataframe\">\n",
       "  <thead>\n",
       "    <tr style=\"text-align: right;\">\n",
       "      <th></th>\n",
       "      <th>Apple</th>\n",
       "      <th>Google</th>\n",
       "      <th>Nvidia</th>\n",
       "    </tr>\n",
       "  </thead>\n",
       "  <tbody>\n",
       "    <tr>\n",
       "      <th>2020-01-01</th>\n",
       "      <td>101.764052</td>\n",
       "      <td>151.883151</td>\n",
       "      <td>199.630818</td>\n",
       "    </tr>\n",
       "    <tr>\n",
       "      <th>2020-01-02</th>\n",
       "      <td>102.164210</td>\n",
       "      <td>150.535392</td>\n",
       "      <td>199.391439</td>\n",
       "    </tr>\n",
       "    <tr>\n",
       "      <th>2020-01-03</th>\n",
       "      <td>103.142948</td>\n",
       "      <td>149.264907</td>\n",
       "      <td>200.491099</td>\n",
       "    </tr>\n",
       "    <tr>\n",
       "      <th>2020-01-06</th>\n",
       "      <td>105.383841</td>\n",
       "      <td>150.234303</td>\n",
       "      <td>201.146362</td>\n",
       "    </tr>\n",
       "    <tr>\n",
       "      <th>2020-01-07</th>\n",
       "      <td>107.251399</td>\n",
       "      <td>149.061180</td>\n",
       "      <td>201.786494</td>\n",
       "    </tr>\n",
       "    <tr>\n",
       "      <th>...</th>\n",
       "      <td>...</td>\n",
       "      <td>...</td>\n",
       "      <td>...</td>\n",
       "    </tr>\n",
       "    <tr>\n",
       "      <th>2020-05-13</th>\n",
       "      <td>103.655530</td>\n",
       "      <td>153.106238</td>\n",
       "      <td>193.425488</td>\n",
       "    </tr>\n",
       "    <tr>\n",
       "      <th>2020-05-14</th>\n",
       "      <td>103.666030</td>\n",
       "      <td>153.878029</td>\n",
       "      <td>193.523213</td>\n",
       "    </tr>\n",
       "    <tr>\n",
       "      <th>2020-05-15</th>\n",
       "      <td>105.451900</td>\n",
       "      <td>154.701533</td>\n",
       "      <td>194.106167</td>\n",
       "    </tr>\n",
       "    <tr>\n",
       "      <th>2020-05-18</th>\n",
       "      <td>105.578812</td>\n",
       "      <td>156.864769</td>\n",
       "      <td>193.706718</td>\n",
       "    </tr>\n",
       "    <tr>\n",
       "      <th>2020-05-19</th>\n",
       "      <td>105.980802</td>\n",
       "      <td>158.201297</td>\n",
       "      <td>194.076774</td>\n",
       "    </tr>\n",
       "  </tbody>\n",
       "</table>\n",
       "<p>100 rows × 3 columns</p>\n",
       "</div>"
      ],
      "text/plain": [
       "                 Apple      Google      Nvidia\n",
       "2020-01-01  101.764052  151.883151  199.630818\n",
       "2020-01-02  102.164210  150.535392  199.391439\n",
       "2020-01-03  103.142948  149.264907  200.491099\n",
       "2020-01-06  105.383841  150.234303  201.146362\n",
       "2020-01-07  107.251399  149.061180  201.786494\n",
       "...                ...         ...         ...\n",
       "2020-05-13  103.655530  153.106238  193.425488\n",
       "2020-05-14  103.666030  153.878029  193.523213\n",
       "2020-05-15  105.451900  154.701533  194.106167\n",
       "2020-05-18  105.578812  156.864769  193.706718\n",
       "2020-05-19  105.980802  158.201297  194.076774\n",
       "\n",
       "[100 rows x 3 columns]"
      ]
     },
     "execution_count": 13,
     "metadata": {},
     "output_type": "execute_result"
    }
   ],
   "source": [
    "imputed_data"
   ]
  },
  {
   "cell_type": "code",
   "execution_count": 12,
   "id": "c4d595e2-892e-4aa6-a45b-2da6dbb95197",
   "metadata": {},
   "outputs": [
    {
     "name": "stdout",
     "output_type": "stream",
     "text": [
      "0.035303800359665204\n",
      "0.11437334142337077\n"
     ]
    }
   ],
   "source": [
    "from sklearn.metrics import mean_squared_error\n",
    "print(mean_squared_error(imputed_data.Apple, data_orig.Apple))\n",
    "print(mean_squared_error(data.Apple.interpolate(method='linear'), data_orig.Apple))"
   ]
  },
  {
   "cell_type": "code",
   "execution_count": 14,
   "id": "8212ae37-6438-4ed1-8f92-1d160a3fa175",
   "metadata": {},
   "outputs": [
    {
     "data": {
      "text/html": [
       "<div>\n",
       "<style scoped>\n",
       "    .dataframe tbody tr th:only-of-type {\n",
       "        vertical-align: middle;\n",
       "    }\n",
       "\n",
       "    .dataframe tbody tr th {\n",
       "        vertical-align: top;\n",
       "    }\n",
       "\n",
       "    .dataframe thead th {\n",
       "        text-align: right;\n",
       "    }\n",
       "</style>\n",
       "<table border=\"1\" class=\"dataframe\">\n",
       "  <thead>\n",
       "    <tr style=\"text-align: right;\">\n",
       "      <th></th>\n",
       "      <th>Apple</th>\n",
       "      <th>Google</th>\n",
       "      <th>Nvidia</th>\n",
       "    </tr>\n",
       "  </thead>\n",
       "  <tbody>\n",
       "    <tr>\n",
       "      <th>2020-01-01</th>\n",
       "      <td>101.764052</td>\n",
       "      <td>151.883151</td>\n",
       "      <td>199.630818</td>\n",
       "    </tr>\n",
       "    <tr>\n",
       "      <th>2020-01-02</th>\n",
       "      <td>102.164210</td>\n",
       "      <td>150.535392</td>\n",
       "      <td>199.391439</td>\n",
       "    </tr>\n",
       "    <tr>\n",
       "      <th>2020-01-03</th>\n",
       "      <td>103.142948</td>\n",
       "      <td>149.264907</td>\n",
       "      <td>200.491099</td>\n",
       "    </tr>\n",
       "    <tr>\n",
       "      <th>2020-01-06</th>\n",
       "      <td>105.383841</td>\n",
       "      <td>150.234303</td>\n",
       "      <td>201.146362</td>\n",
       "    </tr>\n",
       "    <tr>\n",
       "      <th>2020-01-07</th>\n",
       "      <td>107.251399</td>\n",
       "      <td>149.061180</td>\n",
       "      <td>201.786494</td>\n",
       "    </tr>\n",
       "    <tr>\n",
       "      <th>...</th>\n",
       "      <td>...</td>\n",
       "      <td>...</td>\n",
       "      <td>...</td>\n",
       "    </tr>\n",
       "    <tr>\n",
       "      <th>2020-05-13</th>\n",
       "      <td>103.655530</td>\n",
       "      <td>153.106238</td>\n",
       "      <td>193.425488</td>\n",
       "    </tr>\n",
       "    <tr>\n",
       "      <th>2020-05-14</th>\n",
       "      <td>103.666030</td>\n",
       "      <td>153.878029</td>\n",
       "      <td>193.523213</td>\n",
       "    </tr>\n",
       "    <tr>\n",
       "      <th>2020-05-15</th>\n",
       "      <td>105.451900</td>\n",
       "      <td>154.701533</td>\n",
       "      <td>194.106167</td>\n",
       "    </tr>\n",
       "    <tr>\n",
       "      <th>2020-05-18</th>\n",
       "      <td>105.578812</td>\n",
       "      <td>156.864769</td>\n",
       "      <td>193.706718</td>\n",
       "    </tr>\n",
       "    <tr>\n",
       "      <th>2020-05-19</th>\n",
       "      <td>105.980802</td>\n",
       "      <td>158.201297</td>\n",
       "      <td>194.076774</td>\n",
       "    </tr>\n",
       "  </tbody>\n",
       "</table>\n",
       "<p>100 rows × 3 columns</p>\n",
       "</div>"
      ],
      "text/plain": [
       "                 Apple      Google      Nvidia\n",
       "2020-01-01  101.764052  151.883151  199.630818\n",
       "2020-01-02  102.164210  150.535392  199.391439\n",
       "2020-01-03  103.142948  149.264907  200.491099\n",
       "2020-01-06  105.383841  150.234303  201.146362\n",
       "2020-01-07  107.251399  149.061180  201.786494\n",
       "...                ...         ...         ...\n",
       "2020-05-13  103.655530  153.106238  193.425488\n",
       "2020-05-14  103.666030  153.878029  193.523213\n",
       "2020-05-15  105.451900  154.701533  194.106167\n",
       "2020-05-18  105.578812  156.864769  193.706718\n",
       "2020-05-19  105.980802  158.201297  194.076774\n",
       "\n",
       "[100 rows x 3 columns]"
      ]
     },
     "execution_count": 14,
     "metadata": {},
     "output_type": "execute_result"
    }
   ],
   "source": [
    "imputed_data"
   ]
  },
  {
   "cell_type": "code",
   "execution_count": null,
   "id": "e9b88084-b2fe-4cf1-9848-ef6ced8c6ba8",
   "metadata": {},
   "outputs": [],
   "source": []
  }
 ],
 "metadata": {
  "kernelspec": {
   "display_name": "Python 3 (ipykernel)",
   "language": "python",
   "name": "python3"
  },
  "language_info": {
   "codemirror_mode": {
    "name": "ipython",
    "version": 3
   },
   "file_extension": ".py",
   "mimetype": "text/x-python",
   "name": "python",
   "nbconvert_exporter": "python",
   "pygments_lexer": "ipython3",
   "version": "3.11.7"
  }
 },
 "nbformat": 4,
 "nbformat_minor": 5
}
