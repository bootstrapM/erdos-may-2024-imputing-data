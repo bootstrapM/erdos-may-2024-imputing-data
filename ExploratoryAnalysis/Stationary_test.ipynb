{
 "cells": [
  {
   "cell_type": "markdown",
   "id": "fce2cf63-9ac5-4aa9-a8d6-f9283092f73b",
   "metadata": {},
   "source": [
    "## Stationary test"
   ]
  },
  {
   "cell_type": "markdown",
   "id": "d7ca9f53-c9d7-4ac8-8207-d3c62afac526",
   "metadata": {},
   "source": [
    "We need to check for stationary before applying the Granger Causality test. Applying the test for non-stationary time series will overestimate the Granger Causality."
   ]
  },
  {
   "cell_type": "code",
   "execution_count": 1,
   "id": "24dfc7bb-a71a-4c64-b01e-d08b838bcdc3",
   "metadata": {},
   "outputs": [],
   "source": [
    "import yfinance as yf\n",
    "import pandas as pd\n",
    "import numpy as np\n",
    "import statsmodels\n",
    "\n",
    "from statsmodels.tsa.stattools import adfuller\n",
    "from statsmodels.tsa.stattools import kpss"
   ]
  },
  {
   "cell_type": "markdown",
   "id": "af473e69-e232-40b5-9449-f8718c0b1515",
   "metadata": {},
   "source": [
    "## Import stock data"
   ]
  },
  {
   "cell_type": "markdown",
   "id": "c1247718-e01a-4fbc-a1bd-e55110d6a5a4",
   "metadata": {},
   "source": [
    "Apple, Google, Microsoft, NVidia, Amazon, Meta and Taiwan Semiconductor Manufacturing between January 1, 2023 and January 1, 2024."
   ]
  },
  {
   "cell_type": "code",
   "execution_count": 5,
   "id": "651cd79e-0a60-4f75-a353-edde33c50b85",
   "metadata": {},
   "outputs": [],
   "source": [
    "from pandas_datareader import data as pdr\n",
    "\n",
    "apple = yf.Ticker(\"AAPL\")\n",
    "google = yf.Ticker(\"GOOG\")\n",
    "microsoft = yf.Ticker(\"MSFT\")\n",
    "nvidia = yf.Ticker(\"NVDA\")\n",
    "amazon = yf.Ticker(\"AMZN\")\n",
    "meta = yf.Ticker(\"META\")\n",
    "tsmc = yf.Ticker(\"TSM\")\n",
    "\n",
    "aapl_data = apple.history(start='2023-01-01', end='2024-01-01')\n",
    "goog_data = google.history(start='2023-01-01', end='2024-01-01')\n",
    "msft_data = microsoft.history(start='2023-01-01', end='2024-01-01')\n",
    "nvda_data = nvidia.history(start='2023-01-01', end='2024-01-01')\n",
    "amzn_data = amazon.history(start='2023-01-01', end='2024-01-01')\n",
    "meta_data = meta.history(start='2023-01-01', end='2024-01-01')\n",
    "tsmc_data = tsmc.history(start='2023-01-01', end='2024-01-01')"
   ]
  },
  {
   "cell_type": "code",
   "execution_count": 6,
   "id": "cb719ab7-d611-4e23-9443-2c80f47ad87c",
   "metadata": {},
   "outputs": [],
   "source": [
    "datas = [aapl_data, goog_data, msft_data, nvda_data, amzn_data, meta_data, tsmc_data] "
   ]
  },
  {
   "cell_type": "markdown",
   "id": "475d8b06-0f42-4d93-9a00-937a5097b920",
   "metadata": {},
   "source": [
    "## ADF Tests for stationary\n",
    "\n",
    "Null hypothesis: Time series is not stationary \\\r\n",
    "Alternative hypothesis: If null hypothesis is rejected, then time series is stationaryry."
   ]
  },
  {
   "cell_type": "code",
   "execution_count": 3,
   "id": "41ca6f30-d486-4bb2-a699-9e81fb0c67cf",
   "metadata": {},
   "outputs": [],
   "source": [
    "results_adf = pd.DataFrame(columns=['Company','Close','Close Difference','Daily Return'])\n",
    "results_adf['Company'] = ['Apple','Google','Microsoft','NVIDIA','Amazon','Meta','TSMC']"
   ]
  },
  {
   "cell_type": "code",
   "execution_count": 7,
   "id": "452437fb-6496-4aa5-9707-d94c0dc9ddcc",
   "metadata": {},
   "outputs": [
    {
     "name": "stdout",
     "output_type": "stream",
     "text": [
      "ADF Test:\n"
     ]
    },
    {
     "data": {
      "text/html": [
       "<div>\n",
       "<style scoped>\n",
       "    .dataframe tbody tr th:only-of-type {\n",
       "        vertical-align: middle;\n",
       "    }\n",
       "\n",
       "    .dataframe tbody tr th {\n",
       "        vertical-align: top;\n",
       "    }\n",
       "\n",
       "    .dataframe thead th {\n",
       "        text-align: right;\n",
       "    }\n",
       "</style>\n",
       "<table border=\"1\" class=\"dataframe\">\n",
       "  <thead>\n",
       "    <tr style=\"text-align: right;\">\n",
       "      <th></th>\n",
       "      <th>Company</th>\n",
       "      <th>Close</th>\n",
       "      <th>Close Difference</th>\n",
       "      <th>Daily Return</th>\n",
       "    </tr>\n",
       "  </thead>\n",
       "  <tbody>\n",
       "    <tr>\n",
       "      <th>0</th>\n",
       "      <td>Apple</td>\n",
       "      <td>Non-stationary</td>\n",
       "      <td>Stationary</td>\n",
       "      <td>Stationary</td>\n",
       "    </tr>\n",
       "    <tr>\n",
       "      <th>1</th>\n",
       "      <td>Google</td>\n",
       "      <td>Non-stationary</td>\n",
       "      <td>Stationary</td>\n",
       "      <td>Stationary</td>\n",
       "    </tr>\n",
       "    <tr>\n",
       "      <th>2</th>\n",
       "      <td>Microsoft</td>\n",
       "      <td>Non-stationary</td>\n",
       "      <td>Stationary</td>\n",
       "      <td>Stationary</td>\n",
       "    </tr>\n",
       "    <tr>\n",
       "      <th>3</th>\n",
       "      <td>NVIDIA</td>\n",
       "      <td>Non-stationary</td>\n",
       "      <td>Stationary</td>\n",
       "      <td>Stationary</td>\n",
       "    </tr>\n",
       "    <tr>\n",
       "      <th>4</th>\n",
       "      <td>Amazon</td>\n",
       "      <td>Non-stationary</td>\n",
       "      <td>Stationary</td>\n",
       "      <td>Stationary</td>\n",
       "    </tr>\n",
       "    <tr>\n",
       "      <th>5</th>\n",
       "      <td>Meta</td>\n",
       "      <td>Non-stationary</td>\n",
       "      <td>Stationary</td>\n",
       "      <td>Stationary</td>\n",
       "    </tr>\n",
       "    <tr>\n",
       "      <th>6</th>\n",
       "      <td>TSMC</td>\n",
       "      <td>Non-stationary</td>\n",
       "      <td>Stationary</td>\n",
       "      <td>Stationary</td>\n",
       "    </tr>\n",
       "  </tbody>\n",
       "</table>\n",
       "</div>"
      ],
      "text/plain": [
       "     Company           Close Close Difference Daily Return\n",
       "0      Apple  Non-stationary       Stationary   Stationary\n",
       "1     Google  Non-stationary       Stationary   Stationary\n",
       "2  Microsoft  Non-stationary       Stationary   Stationary\n",
       "3     NVIDIA  Non-stationary       Stationary   Stationary\n",
       "4     Amazon  Non-stationary       Stationary   Stationary\n",
       "5       Meta  Non-stationary       Stationary   Stationary\n",
       "6       TSMC  Non-stationary       Stationary   Stationary"
      ]
     },
     "execution_count": 7,
     "metadata": {},
     "output_type": "execute_result"
    }
   ],
   "source": [
    "## ADF tests on datas\n",
    "for i, data in enumerate(datas):\n",
    "    if adfuller(data['Close'].values)[1] < 0.05: # p value < 0.05:\n",
    "        results_adf.loc[i,'Close'] = 'Stationary'\n",
    "    else:\n",
    "        results_adf.loc[i,'Close'] = 'Non-stationary'\n",
    "    if adfuller(data['Close'].diff().dropna())[1] < 0.05: # p value < 0.05:\n",
    "        results_adf.loc[i,'Close Difference'] = 'Stationary'\n",
    "    else:\n",
    "        results_adf.loc[i,'Close Difference'] = 'Non-stationary'\n",
    "    if adfuller(data['Close'].pct_change().dropna())[1] < 0.05: # p value < 0.05:\n",
    "        results_adf.loc[i,'Daily Return'] = 'Stationary'\n",
    "    else:\n",
    "       results_adf['Daily Return'][i] = 'Non-stationary'\n",
    "print(\"ADF Test:\")\n",
    "results_adf"
   ]
  },
  {
   "cell_type": "markdown",
   "id": "50ef4752-45d2-46a1-9dfd-82efbebd68e5",
   "metadata": {},
   "source": [
    "## KPSS Tests for stationary\n",
    "Null hypothesis: Time series is stationary around a deterministic trend (i.e. trend-stationary) \\\n",
    "Alternative hypothesis: Time series is a non-stationary unit root.\n",
    "\n",
    "Note that KPSS Test determines if series is stationary around a mean or linear trend, or non stationary due to a unit root."
   ]
  },
  {
   "cell_type": "code",
   "execution_count": 8,
   "id": "920339b4-a69c-4fb3-8b9b-7a38b7fc092f",
   "metadata": {},
   "outputs": [],
   "source": [
    "results_kpss = pd.DataFrame(columns=['Company','Close','Close Difference','Daily Return'])\n",
    "results_kpss['Company'] = ['Apple','Google','Microsoft','NVIDIA','Amazon','Meta','TSMC']"
   ]
  },
  {
   "cell_type": "code",
   "execution_count": 10,
   "id": "521a6871-3001-4d36-b90e-12d91bd47902",
   "metadata": {},
   "outputs": [
    {
     "name": "stdout",
     "output_type": "stream",
     "text": [
      "KPSS Test:\n"
     ]
    },
    {
     "name": "stderr",
     "output_type": "stream",
     "text": [
      "C:\\Users\\teres\\AppData\\Local\\Temp\\ipykernel_11704\\3693298409.py:4: InterpolationWarning: The test statistic is outside of the range of p-values available in the\n",
      "look-up table. The actual p-value is smaller than the p-value returned.\n",
      "\n",
      "  if kpss(data['Close'].values)[1] >= 0.05: # p value < 0.05:\n",
      "C:\\Users\\teres\\AppData\\Local\\Temp\\ipykernel_11704\\3693298409.py:8: InterpolationWarning: The test statistic is outside of the range of p-values available in the\n",
      "look-up table. The actual p-value is greater than the p-value returned.\n",
      "\n",
      "  if kpss(data['Close'].diff().dropna())[1] >= 0.05: # p value < 0.05:\n",
      "C:\\Users\\teres\\AppData\\Local\\Temp\\ipykernel_11704\\3693298409.py:4: InterpolationWarning: The test statistic is outside of the range of p-values available in the\n",
      "look-up table. The actual p-value is smaller than the p-value returned.\n",
      "\n",
      "  if kpss(data['Close'].values)[1] >= 0.05: # p value < 0.05:\n",
      "C:\\Users\\teres\\AppData\\Local\\Temp\\ipykernel_11704\\3693298409.py:8: InterpolationWarning: The test statistic is outside of the range of p-values available in the\n",
      "look-up table. The actual p-value is greater than the p-value returned.\n",
      "\n",
      "  if kpss(data['Close'].diff().dropna())[1] >= 0.05: # p value < 0.05:\n",
      "C:\\Users\\teres\\AppData\\Local\\Temp\\ipykernel_11704\\3693298409.py:12: InterpolationWarning: The test statistic is outside of the range of p-values available in the\n",
      "look-up table. The actual p-value is greater than the p-value returned.\n",
      "\n",
      "  if kpss(data['Close'].pct_change().dropna())[1] >= 0.05: # p value < 0.05:\n",
      "C:\\Users\\teres\\AppData\\Local\\Temp\\ipykernel_11704\\3693298409.py:4: InterpolationWarning: The test statistic is outside of the range of p-values available in the\n",
      "look-up table. The actual p-value is smaller than the p-value returned.\n",
      "\n",
      "  if kpss(data['Close'].values)[1] >= 0.05: # p value < 0.05:\n",
      "C:\\Users\\teres\\AppData\\Local\\Temp\\ipykernel_11704\\3693298409.py:8: InterpolationWarning: The test statistic is outside of the range of p-values available in the\n",
      "look-up table. The actual p-value is greater than the p-value returned.\n",
      "\n",
      "  if kpss(data['Close'].diff().dropna())[1] >= 0.05: # p value < 0.05:\n",
      "C:\\Users\\teres\\AppData\\Local\\Temp\\ipykernel_11704\\3693298409.py:12: InterpolationWarning: The test statistic is outside of the range of p-values available in the\n",
      "look-up table. The actual p-value is greater than the p-value returned.\n",
      "\n",
      "  if kpss(data['Close'].pct_change().dropna())[1] >= 0.05: # p value < 0.05:\n",
      "C:\\Users\\teres\\AppData\\Local\\Temp\\ipykernel_11704\\3693298409.py:4: InterpolationWarning: The test statistic is outside of the range of p-values available in the\n",
      "look-up table. The actual p-value is smaller than the p-value returned.\n",
      "\n",
      "  if kpss(data['Close'].values)[1] >= 0.05: # p value < 0.05:\n",
      "C:\\Users\\teres\\AppData\\Local\\Temp\\ipykernel_11704\\3693298409.py:8: InterpolationWarning: The test statistic is outside of the range of p-values available in the\n",
      "look-up table. The actual p-value is greater than the p-value returned.\n",
      "\n",
      "  if kpss(data['Close'].diff().dropna())[1] >= 0.05: # p value < 0.05:\n",
      "C:\\Users\\teres\\AppData\\Local\\Temp\\ipykernel_11704\\3693298409.py:15: FutureWarning: ChainedAssignmentError: behaviour will change in pandas 3.0!\n",
      "You are setting values through chained assignment. Currently this works in certain cases, but when using Copy-on-Write (which will become the default behaviour in pandas 3.0) this will never work to update the original DataFrame or Series, because the intermediate object on which we are setting values will behave as a copy.\n",
      "A typical example is when you are setting values in a column of a DataFrame, like:\n",
      "\n",
      "df[\"col\"][row_indexer] = value\n",
      "\n",
      "Use `df.loc[row_indexer, \"col\"] = values` instead, to perform the assignment in a single step and ensure this keeps updating the original `df`.\n",
      "\n",
      "See the caveats in the documentation: https://pandas.pydata.org/pandas-docs/stable/user_guide/indexing.html#returning-a-view-versus-a-copy\n",
      "\n",
      "  results_kpss['Daily Return'][i] = 'Non-stationary'\n",
      "C:\\Users\\teres\\AppData\\Local\\Temp\\ipykernel_11704\\3693298409.py:4: InterpolationWarning: The test statistic is outside of the range of p-values available in the\n",
      "look-up table. The actual p-value is smaller than the p-value returned.\n",
      "\n",
      "  if kpss(data['Close'].values)[1] >= 0.05: # p value < 0.05:\n",
      "C:\\Users\\teres\\AppData\\Local\\Temp\\ipykernel_11704\\3693298409.py:8: InterpolationWarning: The test statistic is outside of the range of p-values available in the\n",
      "look-up table. The actual p-value is greater than the p-value returned.\n",
      "\n",
      "  if kpss(data['Close'].diff().dropna())[1] >= 0.05: # p value < 0.05:\n",
      "C:\\Users\\teres\\AppData\\Local\\Temp\\ipykernel_11704\\3693298409.py:12: InterpolationWarning: The test statistic is outside of the range of p-values available in the\n",
      "look-up table. The actual p-value is greater than the p-value returned.\n",
      "\n",
      "  if kpss(data['Close'].pct_change().dropna())[1] >= 0.05: # p value < 0.05:\n",
      "C:\\Users\\teres\\AppData\\Local\\Temp\\ipykernel_11704\\3693298409.py:4: InterpolationWarning: The test statistic is outside of the range of p-values available in the\n",
      "look-up table. The actual p-value is smaller than the p-value returned.\n",
      "\n",
      "  if kpss(data['Close'].values)[1] >= 0.05: # p value < 0.05:\n",
      "C:\\Users\\teres\\AppData\\Local\\Temp\\ipykernel_11704\\3693298409.py:8: InterpolationWarning: The test statistic is outside of the range of p-values available in the\n",
      "look-up table. The actual p-value is greater than the p-value returned.\n",
      "\n",
      "  if kpss(data['Close'].diff().dropna())[1] >= 0.05: # p value < 0.05:\n",
      "C:\\Users\\teres\\AppData\\Local\\Temp\\ipykernel_11704\\3693298409.py:8: InterpolationWarning: The test statistic is outside of the range of p-values available in the\n",
      "look-up table. The actual p-value is greater than the p-value returned.\n",
      "\n",
      "  if kpss(data['Close'].diff().dropna())[1] >= 0.05: # p value < 0.05:\n",
      "C:\\Users\\teres\\AppData\\Local\\Temp\\ipykernel_11704\\3693298409.py:12: InterpolationWarning: The test statistic is outside of the range of p-values available in the\n",
      "look-up table. The actual p-value is greater than the p-value returned.\n",
      "\n",
      "  if kpss(data['Close'].pct_change().dropna())[1] >= 0.05: # p value < 0.05:\n"
     ]
    },
    {
     "data": {
      "text/html": [
       "<div>\n",
       "<style scoped>\n",
       "    .dataframe tbody tr th:only-of-type {\n",
       "        vertical-align: middle;\n",
       "    }\n",
       "\n",
       "    .dataframe tbody tr th {\n",
       "        vertical-align: top;\n",
       "    }\n",
       "\n",
       "    .dataframe thead th {\n",
       "        text-align: right;\n",
       "    }\n",
       "</style>\n",
       "<table border=\"1\" class=\"dataframe\">\n",
       "  <thead>\n",
       "    <tr style=\"text-align: right;\">\n",
       "      <th></th>\n",
       "      <th>Company</th>\n",
       "      <th>Close</th>\n",
       "      <th>Close Difference</th>\n",
       "      <th>Daily Return</th>\n",
       "    </tr>\n",
       "  </thead>\n",
       "  <tbody>\n",
       "    <tr>\n",
       "      <th>0</th>\n",
       "      <td>Apple</td>\n",
       "      <td>Non-stationary</td>\n",
       "      <td>Stationary</td>\n",
       "      <td>Stationary</td>\n",
       "    </tr>\n",
       "    <tr>\n",
       "      <th>1</th>\n",
       "      <td>Google</td>\n",
       "      <td>Non-stationary</td>\n",
       "      <td>Stationary</td>\n",
       "      <td>Stationary</td>\n",
       "    </tr>\n",
       "    <tr>\n",
       "      <th>2</th>\n",
       "      <td>Microsoft</td>\n",
       "      <td>Non-stationary</td>\n",
       "      <td>Stationary</td>\n",
       "      <td>Stationary</td>\n",
       "    </tr>\n",
       "    <tr>\n",
       "      <th>3</th>\n",
       "      <td>NVIDIA</td>\n",
       "      <td>Non-stationary</td>\n",
       "      <td>Stationary</td>\n",
       "      <td>Non-stationary</td>\n",
       "    </tr>\n",
       "    <tr>\n",
       "      <th>4</th>\n",
       "      <td>Amazon</td>\n",
       "      <td>Non-stationary</td>\n",
       "      <td>Stationary</td>\n",
       "      <td>Stationary</td>\n",
       "    </tr>\n",
       "    <tr>\n",
       "      <th>5</th>\n",
       "      <td>Meta</td>\n",
       "      <td>Non-stationary</td>\n",
       "      <td>Stationary</td>\n",
       "      <td>Stationary</td>\n",
       "    </tr>\n",
       "    <tr>\n",
       "      <th>6</th>\n",
       "      <td>TSMC</td>\n",
       "      <td>Non-stationary</td>\n",
       "      <td>Stationary</td>\n",
       "      <td>Stationary</td>\n",
       "    </tr>\n",
       "  </tbody>\n",
       "</table>\n",
       "</div>"
      ],
      "text/plain": [
       "     Company           Close Close Difference    Daily Return\n",
       "0      Apple  Non-stationary       Stationary      Stationary\n",
       "1     Google  Non-stationary       Stationary      Stationary\n",
       "2  Microsoft  Non-stationary       Stationary      Stationary\n",
       "3     NVIDIA  Non-stationary       Stationary  Non-stationary\n",
       "4     Amazon  Non-stationary       Stationary      Stationary\n",
       "5       Meta  Non-stationary       Stationary      Stationary\n",
       "6       TSMC  Non-stationary       Stationary      Stationary"
      ]
     },
     "execution_count": 10,
     "metadata": {},
     "output_type": "execute_result"
    }
   ],
   "source": [
    "## KPSS tests on datas\n",
    "\n",
    "for i, data in enumerate(datas):\n",
    "    if kpss(data['Close'].values)[1] >= 0.05: # p value < 0.05:\n",
    "        results_kpss.loc[i,'Close'] = 'Stationary'\n",
    "    else:\n",
    "        results_kpss.loc[i,'Close'] = 'Non-stationary'\n",
    "    if kpss(data['Close'].diff().dropna())[1] >= 0.05: # p value < 0.05:\n",
    "        results_kpss.loc[i,'Close Difference'] = 'Stationary'\n",
    "    else:\n",
    "        results_kpss.loc[i,'Close Difference'] = 'Non-stationary'\n",
    "    if kpss(data['Close'].pct_change().dropna())[1] >= 0.05: # p value < 0.05:\n",
    "        results_kpss.loc[i,'Daily Return'] = 'Stationary'\n",
    "    else:\n",
    "       results_kpss['Daily Return'][i] = 'Non-stationary'\n",
    "print(\"KPSS Test:\")\n",
    "results_kpss"
   ]
  },
  {
   "cell_type": "markdown",
   "id": "5e343001-79b7-476e-a49c-fd30ccc102d1",
   "metadata": {},
   "source": [
    "## Why should we use both ADF and KPSS tests?\n",
    "Because ADF tests for stationary, while KPSS tests for unit root. We will have the following 4 cases:\n",
    "\n",
    "Case 1: Both ADF and KPSS tests conclude that the time series are stationary (just like our Daily Return). Then the series is stationary. \\\n",
    "Case 2: Both ADF and KPSS tests conclude that the time series are non-stationary (just like our Adj Close). Then the series is non-stationary. \\\n",
    "Case 3: KPSS indicates stationary while ADF indicates non-stationary. Then the series is trend stationary. To make the series strict stationary, remove the trend. The detrended series is checked for stationarity. \\\n",
    "Case 4: KPSS indicates non-stationary and ADF indicates stationary. Then the series is difference stationary. Differencing will make series stationary. The differenced series is checked for stationarity.\n",
    "\n",
    "https://www.statsmodels.org/dev/examples/notebooks/generated/stationarity_detrending_adf_kpss.html?fbclid=IwZXh0bgNhZW0CMTAAAR03JaiW7WRnorhclQ4j-KvauL8RUnFcFctYIwgIuDIxjKoghJHFx-7JmYw_aem_AfsirxwMm_TAzO90SPYRO4LoqnojF6Xmb4zO2gsNLAxnzHx9AyXUKHwKLGOVYM5gViQQ5me4J9bmgbJi3iE6YXAj"
   ]
  },
  {
   "cell_type": "markdown",
   "id": "6f845cfc-cc14-4880-81e9-645b2b309d18",
   "metadata": {},
   "source": [
    "We can apply Granger Causality on Apple's Close Difference and other Close Difference."
   ]
  },
  {
   "cell_type": "code",
   "execution_count": null,
   "id": "99a4e821-07b5-4685-8f9a-b9a4612da915",
   "metadata": {},
   "outputs": [],
   "source": []
  }
 ],
 "metadata": {
  "kernelspec": {
   "display_name": "data_imputation",
   "language": "python",
   "name": "data_imputation"
  },
  "language_info": {
   "codemirror_mode": {
    "name": "ipython",
    "version": 3
   },
   "file_extension": ".py",
   "mimetype": "text/x-python",
   "name": "python",
   "nbconvert_exporter": "python",
   "pygments_lexer": "ipython3",
   "version": "3.12.3"
  }
 },
 "nbformat": 4,
 "nbformat_minor": 5
}
